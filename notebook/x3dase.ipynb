{
 "cells": [
  {
   "cell_type": "code",
   "execution_count": 2,
   "metadata": {},
   "outputs": [
    {
     "output_type": "execute_result",
     "data": {
      "text/plain": [
       "<IPython.lib.display.IFrame at 0x7f8050876fd0>"
      ],
      "text/html": "\n        <iframe\n            width=\"500x\"\n            height=\"500x\"\n            src=\".ca9f9952_174b_11eb_9d1e_9fb028103ec5.html\"\n            frameborder=\"0\"\n            allowfullscreen\n        ></iframe>\n        "
     },
     "metadata": {},
     "execution_count": 2
    }
   ],
   "source": [
    "from x3dase.visualize import view_x3d, view_x3d_n\n",
    "from ase.visualize import view\n",
    "from ase.build import molecule, fcc111, add_adsorbate\n",
    "from IPython.core.display import display, HTML\n",
    "from IPython.display import IFrame\n",
    "\n",
    "co = molecule('CO')\n",
    "view_x3d_n(co, bond=1.0, scale=0.6)"
   ]
  },
  {
   "cell_type": "code",
   "execution_count": 7,
   "metadata": {},
   "outputs": [
    {
     "output_type": "execute_result",
     "data": {
      "text/plain": [
       "<IPython.lib.display.IFrame at 0x7f804c6e7700>"
      ],
      "text/html": "\n        <iframe\n            width=\"500x\"\n            height=\"500x\"\n            src=\".3a7cc88a_174c_11eb_9d1e_9fb028103ec5.html\"\n            frameborder=\"0\"\n            allowfullscreen\n        ></iframe>\n        "
     },
     "metadata": {},
     "execution_count": 7
    }
   ],
   "source": [
    "from x3dase.visualize import view_x3d\n",
    "from ase.visualize import view\n",
    "from ase.build import molecule, fcc111, add_adsorbate\n",
    "from IPython.core.display import display, HTML\n",
    "\n",
    "o2 = molecule('H2O')\n",
    "view_x3d_n(o2, bond=1.0, scale=0.6)"
   ]
  },
  {
   "cell_type": "code",
   "execution_count": 6,
   "metadata": {},
   "outputs": [
    {
     "output_type": "execute_result",
     "data": {
      "text/plain": [
       "<IPython.lib.display.IFrame at 0x7f804eaacfa0>"
      ],
      "text/html": "\n        <iframe\n            width=\"500x\"\n            height=\"500x\"\n            src=\".2555e87e_174c_11eb_9d1e_9fb028103ec5.html\"\n            frameborder=\"0\"\n            allowfullscreen\n        ></iframe>\n        "
     },
     "metadata": {},
     "execution_count": 6
    }
   ],
   "source": [
    "from ase.build import fcc111\n",
    "pt = fcc111('Pt', size=(6, 6, 3))\n",
    "view_x3d_n(pt)"
   ]
  },
  {
   "cell_type": "code",
   "execution_count": null,
   "metadata": {},
   "outputs": [],
   "source": []
  },
  {
   "cell_type": "code",
   "execution_count": null,
   "metadata": {},
   "outputs": [],
   "source": [
    "    "
   ]
  }
 ],
 "metadata": {
  "kernelspec": {
   "display_name": "Python 3",
   "language": "python",
   "name": "python3"
  },
  "language_info": {
   "codemirror_mode": {
    "name": "ipython",
    "version": 3
   },
   "file_extension": ".py",
   "mimetype": "text/x-python",
   "name": "python",
   "nbconvert_exporter": "python",
   "pygments_lexer": "ipython3",
   "version": "3.8.5-final"
  }
 },
 "nbformat": 4,
 "nbformat_minor": 4
}