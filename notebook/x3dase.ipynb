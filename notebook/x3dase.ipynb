{
 "metadata": {
  "language_info": {
   "codemirror_mode": {
    "name": "ipython",
    "version": 3
   },
   "file_extension": ".py",
   "mimetype": "text/x-python",
   "name": "python",
   "nbconvert_exporter": "python",
   "pygments_lexer": "ipython3",
   "version": "3.8.5-final"
  },
  "orig_nbformat": 2,
  "kernelspec": {
   "name": "python38264bit57a7215766214bbda885f9eefc9b2087",
   "display_name": "Python 3.8.2 64-bit"
  }
 },
 "nbformat": 4,
 "nbformat_minor": 2,
 "cells": [
  {
   "cell_type": "code",
   "execution_count": 4,
   "metadata": {},
   "outputs": [
    {
     "output_type": "execute_result",
     "data": {
      "text/plain": [
       "<IPython.lib.display.IFrame at 0x7f9f18214940>"
      ],
      "text/html": "\n        <iframe\n            width=\"1000px\"\n            height=\"500px\"\n            src=\"c2h6so.html\"\n            frameborder=\"0\"\n            allowfullscreen\n        ></iframe>\n        "
     },
     "metadata": {},
     "execution_count": 4
    }
   ],
   "source": [
    "    from ase.build import molecule, fcc111\n",
    "    from x3dase.visualize import view_x3d_n\n",
    "    atoms = molecule('C2H6SO')\n",
    "    view_x3d_n(atoms, output = 'c2h6so.html', bond = 1.0, label = True)"
   ]
  },
  {
   "cell_type": "code",
   "execution_count": 2,
   "metadata": {},
   "outputs": [
    {
     "output_type": "execute_result",
     "data": {
      "text/plain": [
       "<IPython.lib.display.IFrame at 0x7f9f00175640>"
      ],
      "text/html": "\n        <iframe\n            width=\"1000px\"\n            height=\"500px\"\n            src=\"h2o2.html\"\n            frameborder=\"0\"\n            allowfullscreen\n        ></iframe>\n        "
     },
     "metadata": {},
     "execution_count": 2
    }
   ],
   "source": [
    "    from ase.build import molecule, fcc111\n",
    "    from x3dase.visualize import view_x3d_n\n",
    "    atoms = molecule('H2O')\n",
    "    view_x3d_n(atoms, output = 'h2o2.html', bond = 1.0, label = True)"
   ]
  },
  {
   "cell_type": "code",
   "execution_count": null,
   "metadata": {},
   "outputs": [],
   "source": []
  }
 ]
}