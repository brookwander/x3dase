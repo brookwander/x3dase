{
 "cells": [
  {
   "cell_type": "code",
   "execution_count": 1,
   "metadata": {},
   "outputs": [
    {
     "output_type": "execute_result",
     "data": {
      "text/plain": [
       "<IPython.core.display.HTML object>"
      ],
      "text/html": "<html>\n<head>\n<title>ASE atomic visualization</title>\n<link rel=\"stylesheet\" type=\"text/css\"\n href=\"https://www.x3dom.org/x3dom/release/x3dom.css\">\n</link>\n<script type=\"text/javascript\"\n src=\"https://www.x3dom.org/x3dom/release/x3dom.js\">\n</script>\n</head>\n<body>\n<X3D>\n<Scene>\n\n <Group onclick = \"handleGroupClick(event)\" >\n <Switch whichChoice = \"-1\" >\n <Shape DEF = \"O\">\n <Appearance >\n <Material diffuseColor = \"1.0 0.051 0.051\" transparency = \"0.0\" >\n </Material> \n </Appearance> \n <Sphere radius = \"0.66\" >\n </Sphere> \n </Shape> \n </Switch> \n <Transform translation = \"1.414213562373095 0.8164965809277259 18.92820323027551\" >\n <Shape USE = \"O\">\n </Shape> \n </Transform> \n <Transform translation = \"1.414213562373095 0.8164965809277259 17.68224723027551\" >\n <Shape USE = \"O\">\n </Shape> \n </Transform> \n <Switch whichChoice = \"-1\" >\n <Shape DEF = \"Pt\">\n <Appearance >\n <Material diffuseColor = \"0.816 0.816 0.878\" transparency = \"0.0\" >\n </Material> \n </Appearance> \n <Sphere radius = \"1.36\" >\n </Sphere> \n </Shape> \n </Switch> \n <Transform translation = \"0.0 0.0 10.0\" >\n <Shape USE = \"Pt\">\n </Shape> \n </Transform> \n <Transform translation = \"2.8284271247461903 0.0 10.0\" >\n <Shape USE = \"Pt\">\n </Shape> \n </Transform> \n <Transform translation = \"5.656854249492381 0.0 10.0\" >\n <Shape USE = \"Pt\">\n </Shape> \n </Transform> \n <Transform translation = \"1.4142135623730951 2.449489742783178 10.0\" >\n <Shape USE = \"Pt\">\n </Shape> \n </Transform> \n <Transform translation = \"4.242640687119286 2.449489742783178 10.0\" >\n <Shape USE = \"Pt\">\n </Shape> \n </Transform> \n <Transform translation = \"7.0710678118654755 2.449489742783178 10.0\" >\n <Shape USE = \"Pt\">\n </Shape> \n </Transform> \n <Transform translation = \"2.8284271247461903 4.898979485566356 10.0\" >\n <Shape USE = \"Pt\">\n </Shape> \n </Transform> \n <Transform translation = \"5.656854249492381 4.898979485566356 10.0\" >\n <Shape USE = \"Pt\">\n </Shape> \n </Transform> \n <Transform translation = \"8.485281374238571 4.898979485566356 10.0\" >\n <Shape USE = \"Pt\">\n </Shape> \n </Transform> \n <Transform translation = \"1.4142135623730951 0.8164965809277259 12.309401076758503\" >\n <Shape USE = \"Pt\">\n </Shape> \n </Transform> \n <Transform translation = \"4.242640687119285 0.8164965809277259 12.309401076758503\" >\n <Shape USE = \"Pt\">\n </Shape> \n </Transform> \n <Transform translation = \"7.0710678118654755 0.8164965809277259 12.309401076758503\" >\n <Shape USE = \"Pt\">\n </Shape> \n </Transform> \n <Transform translation = \"2.8284271247461903 3.2659863237109037 12.309401076758503\" >\n <Shape USE = \"Pt\">\n </Shape> \n </Transform> \n <Transform translation = \"5.656854249492381 3.2659863237109037 12.309401076758503\" >\n <Shape USE = \"Pt\">\n </Shape> \n </Transform> \n <Transform translation = \"8.485281374238571 3.2659863237109037 12.309401076758503\" >\n <Shape USE = \"Pt\">\n </Shape> \n </Transform> \n <Transform translation = \"4.242640687119286 5.715476066494082 12.309401076758503\" >\n <Shape USE = \"Pt\">\n </Shape> \n </Transform> \n <Transform translation = \"7.0710678118654755 5.715476066494082 12.309401076758503\" >\n <Shape USE = \"Pt\">\n </Shape> \n </Transform> \n <Transform translation = \"9.899494936611667 5.715476066494082 12.309401076758503\" >\n <Shape USE = \"Pt\">\n </Shape> \n </Transform> \n <Transform translation = \"2.1678453018884597e-17 1.6329931618554518 14.618802153517006\" >\n <Shape USE = \"Pt\">\n </Shape> \n </Transform> \n <Transform translation = \"2.8284271247461907 1.6329931618554518 14.618802153517006\" >\n <Shape USE = \"Pt\">\n </Shape> \n </Transform> \n <Transform translation = \"5.656854249492381 1.6329931618554518 14.618802153517006\" >\n <Shape USE = \"Pt\">\n </Shape> \n </Transform> \n <Transform translation = \"1.414213562373095 4.0824829046386295 14.618802153517006\" >\n <Shape USE = \"Pt\">\n </Shape> \n </Transform> \n <Transform translation = \"4.242640687119286 4.0824829046386295 14.618802153517006\" >\n <Shape USE = \"Pt\">\n </Shape> \n </Transform> \n <Transform translation = \"7.0710678118654755 4.0824829046386295 14.618802153517006\" >\n <Shape USE = \"Pt\">\n </Shape> \n </Transform> \n <Transform translation = \"2.8284271247461903 6.531972647421807 14.618802153517006\" >\n <Shape USE = \"Pt\">\n </Shape> \n </Transform> \n <Transform translation = \"5.656854249492381 6.531972647421807 14.618802153517006\" >\n <Shape USE = \"Pt\">\n </Shape> \n </Transform> \n <Transform translation = \"8.485281374238571 6.531972647421807 14.618802153517006\" >\n <Shape USE = \"Pt\">\n </Shape> \n </Transform> \n <Transform translation = \"0.0 0.0 16.92820323027551\" >\n <Shape USE = \"Pt\">\n </Shape> \n </Transform> \n <Transform translation = \"2.8284271247461903 0.0 16.92820323027551\" >\n <Shape USE = \"Pt\">\n </Shape> \n </Transform> \n <Transform translation = \"5.656854249492381 0.0 16.92820323027551\" >\n <Shape USE = \"Pt\">\n </Shape> \n </Transform> \n <Transform translation = \"1.4142135623730951 2.449489742783178 16.92820323027551\" >\n <Shape USE = \"Pt\">\n </Shape> \n </Transform> \n <Transform translation = \"4.242640687119286 2.449489742783178 16.92820323027551\" >\n <Shape USE = \"Pt\">\n </Shape> \n </Transform> \n <Transform translation = \"7.0710678118654755 2.449489742783178 16.92820323027551\" >\n <Shape USE = \"Pt\">\n </Shape> \n </Transform> \n <Transform translation = \"2.8284271247461903 4.898979485566356 16.92820323027551\" >\n <Shape USE = \"Pt\">\n </Shape> \n </Transform> \n <Transform translation = \"5.656854249492381 4.898979485566356 16.92820323027551\" >\n <Shape USE = \"Pt\">\n </Shape> \n </Transform> \n <Transform translation = \"8.485281374238571 4.898979485566356 16.92820323027551\" >\n <Shape USE = \"Pt\">\n </Shape> \n </Transform> \n </Group> \n            <Shape>\n            <Appearance>\n            <Material diffuseColor='0 0 0' emissiveColor='0 0.5 1'/>\n            </Appearance>\n            <IndexedLineSet coordIndex='0 1 -1 0 2 -1 0 4 -1 1 3 -1 1 5 -1 2 3 -1 2 6 -1 3 7 -1 4 5 -1 4 6 -1 5 7 -1 6 7 -1'>\n            <Coordinate point='[[ 0.          0.          0.          0.          0.         26.92820323\n   4.24264069  7.34846923  0.          4.24264069  7.34846923 26.92820323\n   8.48528137  0.          0.          8.48528137  0.         26.92820323\n  12.72792206  7.34846923  0.         12.72792206  7.34846923 26.92820323]]'/>\n            </IndexedLineSet>\n            </Shape>\n            </Scene>\n</X3D>\n</body>\n</html>\n"
     },
     "metadata": {},
     "execution_count": 1
    }
   ],
   "source": [
    "from x3dase.visualize import view_x3d\n",
    "from ase.visualize import view\n",
    "from ase.build import molecule, fcc111, add_adsorbate\n",
    "o2 = molecule('O2')\n",
    "pt = fcc111('Pt', size = (3, 3, 4), a = 4.0, vacuum=10.0)\n",
    "add_adsorbate(pt, o2, 2.0, 'fcc')\n",
    "# view(pt, viewer = 'x3d')\n",
    "view_x3d(pt, bond=1.0)"
   ]
  },
  {
   "cell_type": "code",
   "execution_count": 1,
   "metadata": {},
   "outputs": [
    {
     "output_type": "stream",
     "name": "stdout",
     "text": [
      "{'bond': 1.0, 'scale': 0.6}\n1.0\n"
     ]
    },
    {
     "output_type": "execute_result",
     "data": {
      "text/plain": [
       "<IPython.core.display.HTML object>"
      ],
      "text/html": "<html>\n<head>\n<title>ASE atomic visualization</title>\n<link rel=\"stylesheet\" type=\"text/css\"\n href=\"https://www.x3dom.org/x3dom/release/x3dom.css\">\n</link>\n<script type=\"text/javascript\"\n src=\"https://www.x3dom.org/x3dom/release/x3dom.js\">\n</script>\n</head>\n<body>\n<X3D>\n<Scene>\n\n <Group onclick = \"handleGroupClick(event)\" >\n <Switch whichChoice = \"-1\" >\n <Shape DEF = \"O\">\n <Appearance >\n <Material diffuseColor = \"1.0 0.051 0.051\" transparency = \"0.0\" >\n </Material> \n </Appearance> \n <Sphere radius = \"0.396\" >\n </Sphere> \n </Shape> \n </Switch> \n <Transform translation = \"0.0 0.0 0.119262\" >\n <Shape USE = \"O\">\n </Shape> \n </Transform> \n <Switch whichChoice = \"-1\" >\n <Shape DEF = \"H\">\n <Appearance >\n <Material diffuseColor = \"1.0 1.0 1.0\" transparency = \"0.0\" >\n </Material> \n </Appearance> \n <Sphere radius = \"0.186\" >\n </Sphere> \n </Shape> \n </Switch> \n <Transform translation = \"0.0 0.763239 -0.477047\" >\n <Shape USE = \"H\">\n </Shape> \n </Transform> \n <Transform translation = \"0.0 -0.763239 -0.477047\" >\n <Shape USE = \"H\">\n </Shape> \n </Transform> \n </Group> \n <Group onclick = \"handleGroupClick(event)\" >\n <Switch whichChoice = \"-1\" >\n <Shape DEF = \"O\">\n <Appearance >\n <Material diffuseColor = \"1.0 0.051 0.051\" transparency = \"0.0\" >\n </Material> \n </Appearance> \n <Cylinder height = \"1.0\" radius = \"0.1\" >\n </Cylinder> \n </Shape> \n </Switch> \n <Transform translation = \"0.0 0.19080975 -0.02981525\" scale = \"1 0.4842825091312921 1\" rotation = \"0.9999999999973259 -1.4158964325862044e-06 -1.82850333647344e-06 2.478366431619714\" >\n <Shape USE = \"O\">\n </Shape> \n </Transform> \n <Transform translation = \"0.0 -0.19080975 -0.02981525\" scale = \"1 0.4842825091312921 1\" rotation = \"0.9999999999973846 -1.4159035040451584e-06 1.7960270944419387e-06 0.6632261894847393\" >\n <Shape USE = \"O\">\n </Shape> \n </Transform> \n <Switch whichChoice = \"-1\" >\n <Shape DEF = \"H\">\n <Appearance >\n <Material diffuseColor = \"1.0 1.0 1.0\" transparency = \"0.0\" >\n </Material> \n </Appearance> \n <Cylinder height = \"1.0\" radius = \"0.1\" >\n </Cylinder> \n </Shape> \n </Switch> \n <Transform translation = \"0.0 0.57242925 -0.32796975\" scale = \"1 0.4842825091312921 1\" rotation = \"-0.9999999999973849 1.4158964959648224e-06 1.7960181828725993e-06 0.6632261894847393\" >\n <Shape USE = \"H\">\n </Shape> \n </Transform> \n <Transform translation = \"0.0 -0.57242925 -0.32796975\" scale = \"1 0.4842825091312921 1\" rotation = \"-0.9999999999973259 1.415903567424156e-06 -1.8285125280286414e-06 2.478366431619714\" >\n <Shape USE = \"H\">\n </Shape> \n </Transform> \n </Group> </Scene>\n</X3D>\n</body>\n</html>\n"
     },
     "metadata": {},
     "execution_count": 1
    }
   ],
   "source": [
    "from x3dase.visualize import view_x3d\n",
    "from ase.visualize import view\n",
    "from ase.build import molecule, fcc111, add_adsorbate\n",
    "o2 = molecule('H2O')\n",
    "view_x3d(o2, bond=1.0, scale=0.6)\n",
    "# view(o2, viewer = 'x3d')"
   ]
  },
  {
   "cell_type": "code",
   "execution_count": null,
   "metadata": {},
   "outputs": [],
   "source": []
  },
  {
   "cell_type": "code",
   "execution_count": null,
   "metadata": {},
   "outputs": [],
   "source": [
    "    "
   ]
  }
 ],
 "metadata": {
  "kernelspec": {
   "display_name": "Python 3",
   "language": "python",
   "name": "python3"
  },
  "language_info": {
   "codemirror_mode": {
    "name": "ipython",
    "version": 3
   },
   "file_extension": ".py",
   "mimetype": "text/x-python",
   "name": "python",
   "nbconvert_exporter": "python",
   "pygments_lexer": "ipython3",
   "version": "3.8.5-final"
  }
 },
 "nbformat": 4,
 "nbformat_minor": 4
}